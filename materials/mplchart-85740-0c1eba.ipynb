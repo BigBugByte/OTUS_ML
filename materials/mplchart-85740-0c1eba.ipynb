{
  "nbformat": 4,
  "nbformat_minor": 0,
  "metadata": {
    "colab": {
      "provenance": []
    },
    "kernelspec": {
      "name": "python3",
      "display_name": "Python 3"
    },
    "language_info": {
      "name": "python"
    }
  },
  "cells": [
    {
      "cell_type": "code",
      "source": [
        "# https://pypi.org/project/mplchart/"
      ],
      "metadata": {
        "id": "hydzn9eApUSx"
      },
      "execution_count": 1,
      "outputs": []
    },
    {
      "cell_type": "code",
      "source": [
        "pip install mplchart"
      ],
      "metadata": {
        "colab": {
          "base_uri": "https://localhost:8080/"
        },
        "id": "tC-ec3ECpNE4",
        "outputId": "edeb551c-1e4b-4097-c8d7-c20ec6aa0c72"
      },
      "execution_count": null,
      "outputs": [
        {
          "output_type": "stream",
          "name": "stdout",
          "text": [
            "Collecting mplchart\n",
            "  Downloading mplchart-0.0.23-py3-none-any.whl.metadata (7.5 kB)\n",
            "Requirement already satisfied: matplotlib in /usr/local/lib/python3.11/dist-packages (from mplchart) (3.10.0)\n",
            "Requirement already satisfied: numpy in /usr/local/lib/python3.11/dist-packages (from mplchart) (2.0.2)\n",
            "Requirement already satisfied: pandas in /usr/local/lib/python3.11/dist-packages (from mplchart) (2.2.2)\n",
            "Requirement already satisfied: contourpy>=1.0.1 in /usr/local/lib/python3.11/dist-packages (from matplotlib->mplchart) (1.3.2)\n",
            "Requirement already satisfied: cycler>=0.10 in /usr/local/lib/python3.11/dist-packages (from matplotlib->mplchart) (0.12.1)\n",
            "Requirement already satisfied: fonttools>=4.22.0 in /usr/local/lib/python3.11/dist-packages (from matplotlib->mplchart) (4.58.1)\n",
            "Requirement already satisfied: kiwisolver>=1.3.1 in /usr/local/lib/python3.11/dist-packages (from matplotlib->mplchart) (1.4.8)\n",
            "Requirement already satisfied: packaging>=20.0 in /usr/local/lib/python3.11/dist-packages (from matplotlib->mplchart) (24.2)\n",
            "Requirement already satisfied: pillow>=8 in /usr/local/lib/python3.11/dist-packages (from matplotlib->mplchart) (11.2.1)\n",
            "Requirement already satisfied: pyparsing>=2.3.1 in /usr/local/lib/python3.11/dist-packages (from matplotlib->mplchart) (3.2.3)\n",
            "Requirement already satisfied: python-dateutil>=2.7 in /usr/local/lib/python3.11/dist-packages (from matplotlib->mplchart) (2.9.0.post0)\n",
            "Requirement already satisfied: pytz>=2020.1 in /usr/local/lib/python3.11/dist-packages (from pandas->mplchart) (2025.2)\n",
            "Requirement already satisfied: tzdata>=2022.7 in /usr/local/lib/python3.11/dist-packages (from pandas->mplchart) (2025.2)\n",
            "Requirement already satisfied: six>=1.5 in /usr/local/lib/python3.11/dist-packages (from python-dateutil>=2.7->matplotlib->mplchart) (1.17.0)\n",
            "Downloading mplchart-0.0.23-py3-none-any.whl (565 kB)\n",
            "\u001b[2K   \u001b[90m━━━━━━━━━━━━━━━━━━━━━━━━━━━━━━━━━━━━━━━━\u001b[0m \u001b[32m565.4/565.4 kB\u001b[0m \u001b[31m5.6 MB/s\u001b[0m eta \u001b[36m0:00:00\u001b[0m\n",
            "\u001b[?25h"
          ]
        }
      ]
    },
    {
      "cell_type": "markdown",
      "source": [
        "https://finance.yahoo.com/trending-tickers'\n",
        "\n",
        "https://analyzingalpha.com/yfinance-python\n"
      ],
      "metadata": {
        "id": "zIDw6rc1MJ2L"
      }
    },
    {
      "cell_type": "code",
      "execution_count": null,
      "metadata": {
        "id": "SovtxoqnpLHg"
      },
      "outputs": [],
      "source": [
        "import yfinance as yf\n",
        "\n",
        "from mplchart.chart import Chart\n",
        "from mplchart.primitives import Candlesticks, Volume\n",
        "from mplchart.indicators import SMA, EMA, RSI, MACD\n",
        "\n",
        "ticker = 'GAZP.ME'\n",
        "prices = yf.Ticker(ticker).history('5y')\n",
        "\n",
        "max_bars = 250\n",
        "\n",
        "indicators = [\n",
        "    Candlesticks(),\n",
        "    Volume(),\n",
        "    SMA(50),\n",
        "    EMA(20),\n",
        "    SMA(200),\n",
        "    RSI(),\n",
        "    MACD(),\n",
        "]\n",
        "\n",
        "chart = Chart(title=ticker, max_bars=max_bars)\n",
        "chart.plot(prices, indicators);\n",
        "chart.show();"
      ]
    },
    {
      "cell_type": "code",
      "source": [],
      "metadata": {
        "id": "nwrE0UbVPLDB"
      },
      "execution_count": null,
      "outputs": []
    },
    {
      "cell_type": "code",
      "source": [
        "# только свечной график\n",
        "indicators = [Candlesticks()]\n",
        "chart = Chart(title='title', max_bars=max_bars)\n",
        "chart.plot(prices, indicators);"
      ],
      "metadata": {
        "id": "nBfRFCxJPLAZ"
      },
      "execution_count": null,
      "outputs": []
    },
    {
      "cell_type": "code",
      "source": [
        "# вычисляем отдельно индикаторы"
      ],
      "metadata": {
        "id": "Y2fijvkUP4yG"
      },
      "execution_count": null,
      "outputs": []
    },
    {
      "cell_type": "code",
      "source": [
        "from mplchart.primitives import Candlesticks, LinePlot\n",
        "\n",
        "indicators = [\n",
        "    Candlesticks(),\n",
        "    SMA(20) | LinePlot(style=\"dashed\", color=\"red\", alpha=0.5, width=3)\n",
        "]"
      ],
      "metadata": {
        "id": "JDh-ZPnoPK-J"
      },
      "execution_count": null,
      "outputs": []
    },
    {
      "cell_type": "code",
      "source": [
        "from mplchart.indicators import SMA, EMA, ROC\n",
        "from mplchart.primitives import Candlesticks, NewAxes, SameAxes\n",
        "\n",
        "indicators = [\n",
        "    Candlesticks(),\n",
        "    ROC(20) | NewAxes(),\n",
        "    ROC(50) | SameAxes(),\n",
        "]"
      ],
      "metadata": {
        "id": "JXz_ivVSQCNv"
      },
      "execution_count": null,
      "outputs": []
    },
    {
      "cell_type": "code",
      "source": [
        "from mplchart.model import Indicator\n",
        "from mplchart.library import get_series, calc_ema\n",
        "\n",
        "class DEMA(Indicator):\n",
        "    \"\"\"Double Exponential Moving Average\"\"\"\n",
        "\n",
        "    same_scale = True\n",
        "    # same_scale is an optional class attribute\n",
        "    # to specify that the indicator can be drawn\n",
        "    # on the same axes as the previous indicator\n",
        "\n",
        "    def __init__(self, period: int = 20):\n",
        "        self.period = period\n",
        "\n",
        "    def __call__(self, prices):\n",
        "        series = get_series(prices)\n",
        "        ema1 = calc_ema(series, self.period)\n",
        "        ema2 = calc_ema(ema1, self.period)\n",
        "        return 2 * ema1 - ema2"
      ],
      "metadata": {
        "id": "-Q8p-b_BQR4h"
      },
      "execution_count": null,
      "outputs": []
    },
    {
      "cell_type": "code",
      "source": [
        "indicators = [\n",
        "    Candlesticks(),\n",
        "    DEMA(20) | LinePlot(style=\"dashed\", color=\"red\", alpha=0.5, width=3)\n",
        "]\n",
        "chart = Chart(title='title', max_bars=max_bars)\n",
        "chart.plot(prices, indicators);"
      ],
      "metadata": {
        "id": "l1q17wf6RSCY"
      },
      "execution_count": null,
      "outputs": []
    }
  ]
}